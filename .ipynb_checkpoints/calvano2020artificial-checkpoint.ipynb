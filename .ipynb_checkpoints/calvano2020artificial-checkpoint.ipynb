{
 "cells": [
  {
   "cell_type": "markdown",
   "id": "0dc28912",
   "metadata": {},
   "source": [
    "This is a reproduction for:  \n",
    "@article{calvano2020artificial,  \n",
    "  title = {Artificial Intelligence, Algorithmic Pricing, and Collusion},  \n",
    "  author = {Calvano, Emilio and Calzolari, Giacomo and Denicolo, Vincenzo and Pastorello, Sergio},  \n",
    "  year = {2020},  \n",
    "  journal = {American Economic Review},  \n",
    "  volume = {110},  \n",
    "  number = {10},  \n",
    "  pages = {3267--3297},  \n",
    "  publisher = {{American Economic Association 2014 Broadway, Suite 305, Nashville, TN 37203}}  \n",
    "  }"
   ]
  },
  {
   "cell_type": "code",
   "execution_count": null,
   "id": "2788005f",
   "metadata": {},
   "outputs": [],
   "source": [
    "import numpy as np"
   ]
  },
  {
   "cell_type": "markdown",
   "id": "5b3c18f9",
   "metadata": {},
   "source": [
    "Assume there are $n$ different products, the demand for firm $i$ at time $t$ is $q_{i,t}=\\frac{e^{\\frac{a_i-p_{i,t}}\\mu}}{\\sum_{j=1}^ne^{\\frac{a_j-p_{j,\\iota}}\\mu}+e^{\\frac{a_0}\\mu}}$, where $a_i$ is the vertical differentiation and "
   ]
  },
  {
   "cell_type": "code",
   "execution_count": null,
   "id": "b6b18c47",
   "metadata": {},
   "outputs": [],
   "source": [
    "class env1:\n",
    "    def __init__(self, N, a, a0=0, mu=0.25):\n",
    "        num_agents = N\n",
    "        self.a = a\n",
    "        self.a0 = a0\n",
    "        self.mu = mu\n",
    "    def get_demand(self, p):\n",
    "        temp = np.exp((self.a-p) / self.mu)\n",
    "        return temp / (np.sum(temp) + np.exp(self.a0/self.mu))"
   ]
  },
  {
   "cell_type": "code",
   "execution_count": null,
   "id": "c86d7b41",
   "metadata": {},
   "outputs": [],
   "source": [
    "def demand(a, p , mu)"
   ]
  }
 ],
 "metadata": {
  "kernelspec": {
   "display_name": "Python 3 (ipykernel)",
   "language": "python",
   "name": "python3"
  },
  "language_info": {
   "codemirror_mode": {
    "name": "ipython",
    "version": 3
   },
   "file_extension": ".py",
   "mimetype": "text/x-python",
   "name": "python",
   "nbconvert_exporter": "python",
   "pygments_lexer": "ipython3",
   "version": "3.9.13"
  }
 },
 "nbformat": 4,
 "nbformat_minor": 5
}
