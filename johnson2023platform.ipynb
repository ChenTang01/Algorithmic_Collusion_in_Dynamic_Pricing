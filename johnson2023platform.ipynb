{
 "cells": [
  {
   "cell_type": "markdown",
   "metadata": {},
   "source": [
    "This notebook reproduces part some results of the paper:  \n",
    "\n",
    "@article{johnson2023platform,  \n",
    "  title={**Platform design when sellers use pricing algorithms**},  \n",
    "  author={Johnson, Justin P and Rhodes, Andrew and Wildenbeest, Matthijs},  \n",
    "  journal={**Econometrica**},  \n",
    "  volume={91},  \n",
    "  number={5},  \n",
    "  pages={1841--1879},  \n",
    "  year={2023},  \n",
    "  publisher={Wiley Online Library}  \n",
    "}"
   ]
  },
  {
   "cell_type": "code",
   "execution_count": null,
   "metadata": {},
   "outputs": [],
   "source": [
    "import numpy as np\n",
    "np.random.seed(93)\n",
    "import matplotlib.pyplot as plt"
   ]
  },
  {
   "cell_type": "code",
   "execution_count": null,
   "metadata": {},
   "outputs": [],
   "source": []
  }
 ],
 "metadata": {
  "kernelspec": {
   "display_name": "toolkit",
   "language": "python",
   "name": "python3"
  },
  "language_info": {
   "name": "python",
   "version": "3.11.9"
  }
 },
 "nbformat": 4,
 "nbformat_minor": 2
}
